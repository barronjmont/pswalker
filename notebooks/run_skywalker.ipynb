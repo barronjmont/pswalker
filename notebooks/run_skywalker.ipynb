{
 "cells": [
  {
   "cell_type": "markdown",
   "metadata": {},
   "source": [
    "# Skywalker algorithm against the lcls mirror systems"
   ]
  },
  {
   "cell_type": "code",
   "execution_count": 1,
   "metadata": {
    "collapsed": true
   },
   "outputs": [],
   "source": [
    "SIMULATION = True\n",
    "ALIGNMENT = 'HOMS'\n",
    "#ALIGNMENT = 'MEC'\n",
    "#ALIGNMENT = 'MFX'\n",
    "#ALIGNMENT = 'XCS'\n",
    "\n",
    "alignment_goals = dict(HOMS=[210, 270],\n",
    "                       MEC=[270],\n",
    "                       MFX=[270],\n",
    "                       XCS=[270, 270])\n",
    "first_steps = 10 # Naive first step for the parameters search\n",
    "tolerances = 2.0 # Tolerance of each target in Pixels\n",
    "average = 1 # Number of shots to average over\n",
    "log_level = \"INFO\"\n",
    "\n",
    "# PARAMETERS FOR SIMULATION ONLY\n",
    "centroid_noise = 5.0 # Noise level of centroid measurements\n",
    "infinite_yag = False # Assume all yags are infinitely large"
   ]
  },
  {
   "cell_type": "code",
   "execution_count": 2,
   "metadata": {
    "collapsed": true
   },
   "outputs": [],
   "source": [
    "############\n",
    "# Standard #\n",
    "############\n",
    "import os\n",
    "import sys\n",
    "import logging\n",
    "import argparse\n",
    "\n",
    "###############\n",
    "# Third Party #\n",
    "###############\n",
    "from bluesky import RunEngine\n",
    "from bluesky.tests.utils import MsgCollector\n",
    "from bluesky.plans import run_wrapper\n",
    "from pcdsdevices.sim import pim, source, mirror"
   ]
  },
  {
   "cell_type": "code",
   "execution_count": 3,
   "metadata": {},
   "outputs": [
    {
     "name": "stderr",
     "output_type": "stream",
     "text": [
      "2017-07-26 12:59:22,071 - INFO - pswalker.examples - Patching 2 pim(s)\n",
      "2017-07-26 12:59:22,072 - INFO - pswalker.examples - Patching 1 pim(s)\n"
     ]
    }
   ],
   "source": [
    "\"\"\"\n",
    "Parameters\n",
    "----------\n",
    "\"\"\"\n",
    "#Configure logger\n",
    "log_level = getattr(logging, log_level, None)\n",
    "\n",
    "#Report invalid logging level\n",
    "if not isinstance(log_level, int):\n",
    "    raise ValueError(\"Invalid log level : {}\".format(log_level))\n",
    "\n",
    "#Create basic configuration\n",
    "logging.basicConfig(level=log_level,\n",
    "                format='%(asctime)s - %(levelname)s - %(name)s - %(message)s')\n",
    "\n",
    "from pswalker.examples  import patch_pims\n",
    "from pswalker.skywalker import skywalker\n",
    "from pswalker.plans import walk_to_pixel\n",
    "\n",
    "#Instantiate simulation\n",
    "if not SIMULATION:\n",
    "    print(\"*\"*80)\n",
    "    print(\"* WARNING: Running on real devices in Production...\")\n",
    "    print(\"*\"*80)\n",
    "    input(\"Press any key to continue...\")\n",
    "    system = homs_system()\n",
    "    m1h = system['m1h']\n",
    "    m1h2 = system['m1h2']\n",
    "    m2h = system['m2h']\n",
    "    m2h2 = system['m2h2']\n",
    "    xrtm2 = system['xrtm2']\n",
    "    xrtm22 = system['xrtm22']\n",
    "    hx2 = system['hx2']\n",
    "    dg3 = system['dg3']\n",
    "    mfxdg1 = system['mfxdg1']\n",
    "    mecy1 = system['mecy1']\n",
    "    m1 = m1h\n",
    "    m2 = m2h\n",
    "    y1 = hx2\n",
    "    y2 = dg3\n",
    "else:\n",
    "    s = source.Undulator('test_undulator')\n",
    "    m1 = mirror.OffsetMirror('test_m1h', z=90.510, alpha=0.0014)\n",
    "    m2 = mirror.OffsetMirror('test_m2h', x=0.0317324, z=101.843, alpha=0.0014)\n",
    "    xrtm2 = mirror.OffsetMirror('test_xrtm2', x=0.0317324, z=200, alpha=0.0014)\n",
    "    y1 = pim.PIM('test_p3h', x=0.0317324, z=103.660,\n",
    "             zero_outside_yag= not infinite_yag)\n",
    "    y2 = pim.PIM('test_dg3', x=0.0317324, z=375.000,\n",
    "             zero_outside_yag= not infinite_yag)\n",
    "    mecy1 = pim.PIM('test_mecy1', x=0.0317324, z=350,\n",
    "             zero_outside_yag= not infinite_yag)\n",
    "    mfxdg1 = mecy1\n",
    "    patch_pims([y1, y2], mirrors=[m1, m2], source=s)\n",
    "    patch_pims([mecy1], mirrors=[xrtm2], source=s)\n",
    "\n",
    "    #Add noise\n",
    "    y1.centroid_noise = centroid_noise\n",
    "    y2.centroid_noise = centroid_noise\n",
    "    mecy1.centroid_noise = centroid_noise\n",
    "\n",
    "alignment_yags = dict(HOMS=[y1, y2],\n",
    "                      MEC=[mecy1],\n",
    "                      MFX=[mfxdg1],\n",
    "                      XCS=['pbty', 'xcssb1y'])\n",
    "alignment_mots = dict(HOMS=[m1, m2],\n",
    "                      MEC=[xrtm2],\n",
    "                      MFX=[xrtm2],\n",
    "                      XCS=['xrtm1', 'xrtm3'])"
   ]
  },
  {
   "cell_type": "code",
   "execution_count": 4,
   "metadata": {
    "collapsed": true
   },
   "outputs": [],
   "source": [
    "#Create Skywalker plan\n",
    "yags = alignment_yags[ALIGNMENT]\n",
    "mots = alignment_mots[ALIGNMENT]\n",
    "goals = alignment_goals[ALIGNMENT]\n",
    "if SIMULATION:\n",
    "    det_rbv = 'detector_stats2_centroid_x'\n",
    "else:\n",
    "    det_rbv = 'detector_stats2_centroid_y'\n",
    "mot_rbv = 'pitch'\n",
    "plan = skywalker(yags, mots, det_rbv, mot_rbv,\n",
    "        goals, first_steps=first_steps, tolerances=tolerances,\n",
    "        averages=average, timeout=10)  "
   ]
  },
  {
   "cell_type": "code",
   "execution_count": 5,
   "metadata": {
    "collapsed": true
   },
   "outputs": [],
   "source": [
    "#Create RunEngine\n",
    "RE = RunEngine({})\n",
    "if SIMULATION:\n",
    "    collector = MsgCollector()\n",
    "    RE.msg_hook = collector"
   ]
  },
  {
   "cell_type": "code",
   "execution_count": 6,
   "metadata": {},
   "outputs": [
    {
     "name": "stderr",
     "output_type": "stream",
     "text": [
      "2017-07-26 12:59:29,106 - INFO - pswalker.plans - Averaged data yielded TST:test_mecy1_detector_stats2_centroid_x is at 2993.1685147691433\n",
      "2017-07-26 12:59:29,108 - INFO - pswalker.callbacks - Unable to yield estimate from model Model(linear)\n",
      "2017-07-26 12:59:29,109 - INFO - pswalker.plans - Walking motor, error after step #0 -> -2723.1685147691433\n",
      "2017-07-26 12:59:29,110 - INFO - pswalker.plans - No model yielded accurate prediction, using naive plan\n",
      "2017-07-26 12:59:29,244 - INFO - pswalker.plans - Averaged data yielded TST:test_mecy1_detector_stats2_centroid_x is at 3244.887042483765\n",
      "2017-07-26 12:59:29,246 - INFO - pswalker.plans - Walking motor, error after step #1 -> -2974.887042483765\n",
      "2017-07-26 12:59:29,247 - INFO - pswalker.plans - Using model Model(linear) to determine next step.\n",
      "2017-07-26 12:59:29,249 - INFO - pswalker.plans - Adjusting motor MIRR:TST:test_xrtm2 to position -108.18167811876502\n",
      "2017-07-26 12:59:29,361 - INFO - pswalker.plans - Averaged data yielded TST:test_mecy1_detector_stats2_centroid_x is at 259.0147569618959\n",
      "2017-07-26 12:59:29,362 - INFO - pswalker.plans - Walking motor, error after step #2 -> 10.985243038104102\n",
      "2017-07-26 12:59:29,364 - INFO - pswalker.plans - Using model Model(linear) to determine next step.\n",
      "2017-07-26 12:59:29,365 - INFO - pswalker.plans - Adjusting motor MIRR:TST:test_xrtm2 to position -107.74862180660499\n",
      "2017-07-26 12:59:29,477 - INFO - pswalker.plans - Averaged data yielded TST:test_mecy1_detector_stats2_centroid_x is at 270.24673771748786\n",
      "2017-07-26 12:59:29,478 - INFO - pswalker.plans - Succesfully walked to value 270.24673771748786 (target=270) after 3 steps.\n",
      "2017-07-26 12:59:29,480 - INFO - pswalker.iterwalk - Found equation of (25.26726149482299, 2992.6352603804394) between linear fit of MIRR:TST:test_xrtm2 to TST:test_mecy1\n",
      "2017-07-26 12:59:29,481 - INFO - pswalker.iterwalk - Finished in 0.49s after 1 mirror walks, 1 yag cycles, and 0 recoveries\n",
      "2017-07-26 12:59:29,483 - INFO - pswalker.iterwalk - Aligned to [270.24673771748786]\n",
      "2017-07-26 12:59:29,484 - INFO - pswalker.iterwalk - Goals were [270]\n",
      "2017-07-26 12:59:29,485 - INFO - pswalker.iterwalk - Deltas are [0.24673771748786066]\n"
     ]
    },
    {
     "data": {
      "text/plain": [
       "['cede5e6d-a5a3-4de7-9c5a-8d03464ef83c']"
      ]
     },
     "execution_count": 6,
     "metadata": {},
     "output_type": "execute_result"
    }
   ],
   "source": [
    "RE(plan)"
   ]
  },
  {
   "cell_type": "code",
   "execution_count": 7,
   "metadata": {},
   "outputs": [
    {
     "name": "stdout",
     "output_type": "stream",
     "text": [
      "47\n"
     ]
    }
   ],
   "source": [
    "if SIMULATION:\n",
    "    #Analyze Performance\n",
    "    print(len(RE.msg_hook.msgs))"
   ]
  },
  {
   "cell_type": "code",
   "execution_count": null,
   "metadata": {
    "collapsed": true
   },
   "outputs": [],
   "source": []
  }
 ],
 "metadata": {
  "kernelspec": {
   "display_name": "Python 3",
   "language": "python",
   "name": "python3"
  },
  "language_info": {
   "codemirror_mode": {
    "name": "ipython",
    "version": 3
   },
   "file_extension": ".py",
   "mimetype": "text/x-python",
   "name": "python",
   "nbconvert_exporter": "python",
   "pygments_lexer": "ipython3",
   "version": "3.6.1"
  }
 },
 "nbformat": 4,
 "nbformat_minor": 2
}
